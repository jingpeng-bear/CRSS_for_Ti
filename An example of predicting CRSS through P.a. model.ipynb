{
 "cells": [
  {
   "cell_type": "code",
   "execution_count": 1,
   "id": "3ce770cc",
   "metadata": {},
   "outputs": [],
   "source": [
    "# Import necessary libraries\n",
    "import xgboost as xgb\n",
    "import numpy as np\n",
    "import pickle"
   ]
  },
  {
   "cell_type": "code",
   "execution_count": 2,
   "id": "e6ca6e05",
   "metadata": {},
   "outputs": [
    {
     "name": "stdout",
     "output_type": "stream",
     "text": [
      "CRSS=280.9608459472656\n"
     ]
    }
   ],
   "source": [
    "# Load model file\n",
    "filename = 'xgboost_model_Pa_0926(original).sav'\n",
    "loaded_model = pickle.load(open(filename, 'rb'))\n",
    "\n",
    "# Use the model to make predictions\n",
    "X_pred = np.array([[1.0, 300, 0.0001, 2.43, 2.74, 3.90, -0.1, 0.05, 0.1, 0.001, 7.0, 6.0, 1, 0]])  #Input feature values\n",
    "y_pred = loaded_model.predict(xgb.DMatrix(\n",
    "    X_pred, feature_names=['d', 'T', 'έ', '`Md', '`Bo', 'e/a̅', 'Δr̅', 'C', 'O', 'H', '~Al', '~Mo', 'M_C', 'M_T'])\n",
    "                             )\n",
    "\n",
    "# Print predicted CRSS\n",
    "print(f\"CRSS={y_pred[0]}\")"
   ]
  },
  {
   "cell_type": "code",
   "execution_count": null,
   "id": "7d9fc1df",
   "metadata": {},
   "outputs": [],
   "source": []
  }
 ],
 "metadata": {
  "kernelspec": {
   "display_name": "Python 3 (ipykernel)",
   "language": "python",
   "name": "python3"
  },
  "language_info": {
   "codemirror_mode": {
    "name": "ipython",
    "version": 3
   },
   "file_extension": ".py",
   "mimetype": "text/x-python",
   "name": "python",
   "nbconvert_exporter": "python",
   "pygments_lexer": "ipython3",
   "version": "3.11.5"
  }
 },
 "nbformat": 4,
 "nbformat_minor": 5
}
